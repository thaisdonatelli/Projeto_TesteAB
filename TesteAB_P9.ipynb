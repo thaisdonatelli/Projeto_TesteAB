{
 "cells": [
  {
   "cell_type": "code",
   "execution_count": 44,
   "metadata": {},
   "outputs": [],
   "source": [
    "import pandas as pd\n",
    "import numpy as np\n",
    "import matplotlib.pyplot as plt\n",
    "from scipy import stats\n",
    "from scipy.stats import mannwhitneyu\n",
    "\n",
    "\n",
    "hypotheses = pd.read_csv('/datasets/hypotheses_us.csv', sep=';')\n",
    "orders = pd.read_csv('/datasets/orders_us.csv')\n",
    "visits = pd.read_csv('/datasets/visits_us.csv')"
   ]
  },
  {
   "cell_type": "code",
   "execution_count": 2,
   "metadata": {},
   "outputs": [
    {
     "name": "stdout",
     "output_type": "stream",
     "text": [
      "Informações:\n",
      "<class 'pandas.core.frame.DataFrame'>\n",
      "RangeIndex: 9 entries, 0 to 8\n",
      "Data columns (total 5 columns):\n",
      " #   Column      Non-Null Count  Dtype \n",
      "---  ------      --------------  ----- \n",
      " 0   Hypothesis  9 non-null      object\n",
      " 1   Reach       9 non-null      int64 \n",
      " 2   Impact      9 non-null      int64 \n",
      " 3   Confidence  9 non-null      int64 \n",
      " 4   Effort      9 non-null      int64 \n",
      "dtypes: int64(4), object(1)\n",
      "memory usage: 488.0+ bytes\n",
      "None\n",
      "\n",
      "Valores ausentes:\n",
      "Hypothesis    0\n",
      "Reach         0\n",
      "Impact        0\n",
      "Confidence    0\n",
      "Effort        0\n",
      "dtype: int64\n",
      "\n",
      "Duplicatas:\n",
      "0\n"
     ]
    }
   ],
   "source": [
    "# PRÉ PROCESSAMENTO DE DADOS - HYPOTHESES\n",
    "\n",
    "# Informações básicas\n",
    "print('Informações:')\n",
    "print(hypotheses.info())\n",
    "\n",
    "print('')\n",
    "\n",
    "# Contar valores ausentes\n",
    "print('Valores ausentes:')\n",
    "print(hypotheses.isnull().sum())\n",
    "\n",
    "print('')\n",
    "\n",
    "# Contar duplicatas\n",
    "print('Duplicatas:')\n",
    "print(hypotheses.duplicated().sum())"
   ]
  },
  {
   "cell_type": "code",
   "execution_count": 3,
   "metadata": {},
   "outputs": [
    {
     "name": "stdout",
     "output_type": "stream",
     "text": [
      "Index(['hypothesis', 'reach', 'impact', 'confidence', 'effort'], dtype='object')\n"
     ]
    }
   ],
   "source": [
    "# Limpar e padronizar os nomes das colunas\n",
    "hypotheses.columns = hypotheses.columns.str.strip().str.lower()\n",
    "\n",
    "print(hypotheses.columns)"
   ]
  },
  {
   "cell_type": "code",
   "execution_count": 4,
   "metadata": {},
   "outputs": [
    {
     "name": "stdout",
     "output_type": "stream",
     "text": [
      "Informações:\n",
      "<class 'pandas.core.frame.DataFrame'>\n",
      "RangeIndex: 1197 entries, 0 to 1196\n",
      "Data columns (total 5 columns):\n",
      " #   Column         Non-Null Count  Dtype  \n",
      "---  ------         --------------  -----  \n",
      " 0   transactionId  1197 non-null   int64  \n",
      " 1   visitorId      1197 non-null   int64  \n",
      " 2   date           1197 non-null   object \n",
      " 3   revenue        1197 non-null   float64\n",
      " 4   group          1197 non-null   object \n",
      "dtypes: float64(1), int64(2), object(2)\n",
      "memory usage: 46.9+ KB\n",
      "None\n",
      "\n",
      "Valores ausentes:\n",
      "transactionId    0\n",
      "visitorId        0\n",
      "date             0\n",
      "revenue          0\n",
      "group            0\n",
      "dtype: int64\n",
      "\n",
      "Duplicatas:\n",
      "0\n"
     ]
    }
   ],
   "source": [
    "# PRÉ PROCESSAMENTO DE DADOS - ORDERS\n",
    "\n",
    "# Informações básicas\n",
    "print('Informações:')\n",
    "print(orders.info())\n",
    "\n",
    "print('')\n",
    "\n",
    "# Contar valores ausentes\n",
    "print('Valores ausentes:')\n",
    "print(orders.isnull().sum())\n",
    "\n",
    "print('')\n",
    "\n",
    "# Contar duplicatas\n",
    "print('Duplicatas:')\n",
    "print(orders.duplicated().sum())"
   ]
  },
  {
   "cell_type": "code",
   "execution_count": 5,
   "metadata": {},
   "outputs": [
    {
     "name": "stdout",
     "output_type": "stream",
     "text": [
      "<class 'pandas.core.frame.DataFrame'>\n",
      "RangeIndex: 1197 entries, 0 to 1196\n",
      "Data columns (total 5 columns):\n",
      " #   Column         Non-Null Count  Dtype         \n",
      "---  ------         --------------  -----         \n",
      " 0   transactionId  1197 non-null   int64         \n",
      " 1   visitorId      1197 non-null   int64         \n",
      " 2   date           1197 non-null   datetime64[ns]\n",
      " 3   revenue        1197 non-null   float64       \n",
      " 4   group          1197 non-null   object        \n",
      "dtypes: datetime64[ns](1), float64(1), int64(2), object(1)\n",
      "memory usage: 46.9+ KB\n",
      "None\n"
     ]
    }
   ],
   "source": [
    "# Alterando formato de coluna 'date' para data:\n",
    "orders['date'] = pd.to_datetime(orders['date'])\n",
    "\n",
    "print(orders.info())"
   ]
  },
  {
   "cell_type": "code",
   "execution_count": 6,
   "metadata": {},
   "outputs": [
    {
     "name": "stdout",
     "output_type": "stream",
     "text": [
      "Informações:\n",
      "<class 'pandas.core.frame.DataFrame'>\n",
      "RangeIndex: 62 entries, 0 to 61\n",
      "Data columns (total 3 columns):\n",
      " #   Column  Non-Null Count  Dtype \n",
      "---  ------  --------------  ----- \n",
      " 0   date    62 non-null     object\n",
      " 1   group   62 non-null     object\n",
      " 2   visits  62 non-null     int64 \n",
      "dtypes: int64(1), object(2)\n",
      "memory usage: 1.6+ KB\n",
      "None\n",
      "\n",
      "Valores ausentes:\n",
      "date      0\n",
      "group     0\n",
      "visits    0\n",
      "dtype: int64\n",
      "\n",
      "Duplicatas:\n",
      "0\n"
     ]
    }
   ],
   "source": [
    "# PRÉ PROCESSAMENTO DE DADOS - VISITS\n",
    "\n",
    "# Informações básicas\n",
    "print('Informações:')\n",
    "print(visits.info())\n",
    "\n",
    "print('')\n",
    "\n",
    "# Contar valores ausentes\n",
    "print('Valores ausentes:')\n",
    "print(visits.isnull().sum())\n",
    "\n",
    "print('')\n",
    "\n",
    "# Contar duplicatas\n",
    "print('Duplicatas:')\n",
    "print(visits.duplicated().sum())"
   ]
  },
  {
   "cell_type": "code",
   "execution_count": 7,
   "metadata": {},
   "outputs": [
    {
     "name": "stdout",
     "output_type": "stream",
     "text": [
      "<class 'pandas.core.frame.DataFrame'>\n",
      "RangeIndex: 62 entries, 0 to 61\n",
      "Data columns (total 3 columns):\n",
      " #   Column  Non-Null Count  Dtype         \n",
      "---  ------  --------------  -----         \n",
      " 0   date    62 non-null     datetime64[ns]\n",
      " 1   group   62 non-null     category      \n",
      " 2   visits  62 non-null     int64         \n",
      "dtypes: category(1), datetime64[ns](1), int64(1)\n",
      "memory usage: 1.3 KB\n",
      "None\n"
     ]
    }
   ],
   "source": [
    "# Alterando formato de coluna 'date' para data:\n",
    "visits['date'] = pd.to_datetime(visits['date'])\n",
    "\n",
    "# Alterando formato de coluna 'group' para categoria:\n",
    "visits['group'] = visits['group'].astype('category')\n",
    "\n",
    "print(visits.info())"
   ]
  },
  {
   "cell_type": "markdown",
   "metadata": {},
   "source": [
    "Priorizando Hipóteses:\n",
    "\n",
    "Aplicando o framework ICE para priorizar hipóteses e classificando em ordem decrescente de prioridade."
   ]
  },
  {
   "cell_type": "code",
   "execution_count": 8,
   "metadata": {},
   "outputs": [
    {
     "name": "stdout",
     "output_type": "stream",
     "text": [
      "                                          hypothesis    ICE\n",
      "8  Launch a promotion that gives users discounts ...  16.20\n",
      "0  Add two new channels for attracting traffic. T...  13.33\n",
      "7  Add a subscription form to all the main pages....  11.20\n",
      "6  Show banners with current offers and sales on ...   8.00\n",
      "2  Add product recommendation blocks to the store...   7.00\n",
      "1  Launch your own delivery service. This will sh...   2.00\n",
      "5  Add a customer review page. This will increase...   1.33\n",
      "3  Change the category structure. This will incre...   1.12\n",
      "4  Change the background color on the main page. ...   1.00\n"
     ]
    }
   ],
   "source": [
    "# Calcular o ICE\n",
    "hypotheses['ICE'] = (hypotheses['impact'] * hypotheses['confidence']) / hypotheses['effort']\n",
    "\n",
    "# Ordenar em ordem decrescente\n",
    "hypotheses_ice = hypotheses.sort_values(by='ICE', ascending=False)\n",
    "\n",
    "print(hypotheses_ice[['hypothesis', 'ICE']].round(2))"
   ]
  },
  {
   "cell_type": "markdown",
   "metadata": {},
   "source": [
    "Aplicando o framework RICE para priorizar hipóteses e classificando em ordem decrescente de prioridade."
   ]
  },
  {
   "cell_type": "code",
   "execution_count": 9,
   "metadata": {},
   "outputs": [
    {
     "name": "stdout",
     "output_type": "stream",
     "text": [
      "                                          hypothesis   RICE\n",
      "7  Add a subscription form to all the main pages....  112.0\n",
      "2  Add product recommendation blocks to the store...   56.0\n",
      "0  Add two new channels for attracting traffic. T...   40.0\n",
      "6  Show banners with current offers and sales on ...   40.0\n",
      "8  Launch a promotion that gives users discounts ...   16.2\n",
      "3  Change the category structure. This will incre...    9.0\n",
      "1  Launch your own delivery service. This will sh...    4.0\n",
      "5  Add a customer review page. This will increase...    4.0\n",
      "4  Change the background color on the main page. ...    3.0\n"
     ]
    }
   ],
   "source": [
    "# Calcular o RICE\n",
    "hypotheses['RICE'] = (hypotheses['reach'] * hypotheses['impact'] * hypotheses['confidence']) / hypotheses['effort']\n",
    "\n",
    "# Ordenar em ordem decrescente\n",
    "hypotheses_rice = hypotheses.sort_values(by='RICE', ascending=False)\n",
    "\n",
    "print(hypotheses_rice[['hypothesis', 'RICE']])"
   ]
  },
  {
   "cell_type": "markdown",
   "metadata": {},
   "source": [
    "Analisando se a priorização de hipóteses muda quando você usa RICE em vez de ICE:"
   ]
  },
  {
   "cell_type": "code",
   "execution_count": 10,
   "metadata": {},
   "outputs": [
    {
     "name": "stdout",
     "output_type": "stream",
     "text": [
      "                                          hypothesis        ICE  ICE Rank  \\\n",
      "7  Add a subscription form to all the main pages....  11.200000         3   \n",
      "2  Add product recommendation blocks to the store...   7.000000         5   \n",
      "0  Add two new channels for attracting traffic. T...  13.333333         2   \n",
      "6  Show banners with current offers and sales on ...   8.000000         4   \n",
      "8  Launch a promotion that gives users discounts ...  16.200000         1   \n",
      "3  Change the category structure. This will incre...   1.125000         8   \n",
      "1  Launch your own delivery service. This will sh...   2.000000         6   \n",
      "5  Add a customer review page. This will increase...   1.333333         7   \n",
      "4  Change the background color on the main page. ...   1.000000         9   \n",
      "\n",
      "    RICE  RICE Rank  \n",
      "7  112.0          1  \n",
      "2   56.0          2  \n",
      "0   40.0          3  \n",
      "6   40.0          3  \n",
      "8   16.2          5  \n",
      "3    9.0          6  \n",
      "1    4.0          7  \n",
      "5    4.0          7  \n",
      "4    3.0          9  \n"
     ]
    }
   ],
   "source": [
    "# Adicionar classificações\n",
    "hypotheses_ice['ICE Rank'] = hypotheses_ice['ICE'].rank(ascending=False).astype(int)\n",
    "hypotheses_rice['RICE Rank'] = hypotheses_rice['RICE'].rank(ascending=False).astype(int)\n",
    "\n",
    "# Combinar os resultados\n",
    "comparison = hypotheses.merge(hypotheses_ice[['hypothesis', 'ICE Rank']], on='hypothesis')\n",
    "comparison = comparison.merge(hypotheses_rice[['hypothesis', 'RICE Rank']], on='hypothesis')\n",
    "\n",
    "print(comparison[['hypothesis', 'ICE', 'ICE Rank', 'RICE', 'RICE Rank']].sort_values(by='RICE Rank'))\n"
   ]
  },
  {
   "cell_type": "markdown",
   "metadata": {},
   "source": [
    "O framework ICE prioriza hipóteses com base em três fatores (impacto, confiança e esforço), enquanto o RICE também adiciona o fato 'alcance do usuário'. O RICE geralmente prioriza hipóteses com maior alcance. Mesmo que uma hipótese tenha um impacto ou confiança menores, ela pode ser priorizada devido ao grande número de pessoas que pode atingir.\n",
    "\n",
    "Hipóteses com alto alcance (Reach) tendem a subir no ranking ao usar RICE, pois o alcance multiplica o valor final da fórmula.\n",
    "Hipóteses com alto impacto, confiança, mas alcance baixo podem cair no ranking ao usar RICE, porque o alcance se torna um fator decisivo."
   ]
  },
  {
   "cell_type": "markdown",
   "metadata": {},
   "source": [
    "**Análise de teste A/B**"
   ]
  },
  {
   "cell_type": "code",
   "execution_count": 19,
   "metadata": {},
   "outputs": [
    {
     "data": {
      "image/png": "[encoded data removed]",
      "text/plain": [
       "<Figure size 1000x600 with 1 Axes>"
      ]
     },
     "metadata": {},
     "output_type": "display_data"
    }
   ],
   "source": [
    "# Ordenar os dados por data\n",
    "orders.sort_values(by='date', inplace=True)\n",
    "\n",
    "# Receita acumulada por grupo\n",
    "orders['revenue_cumulative'] = orders.groupby('group')['revenue'].cumsum()\n",
    "\n",
    "# Plotar a receita acumulada por grupo\n",
    "plt.figure(figsize=(10, 6))\n",
    "for group in orders['group'].unique():\n",
    "    group_data = orders[orders['group'] == group]\n",
    "    plt.plot(group_data['date'], group_data['revenue_cumulative'], label=f'Grupo {group}')\n",
    "\n",
    "plt.title('Receita Acumulada por Grupo')\n",
    "plt.ylabel('Receita Acumulada')\n",
    "plt.legend()\n",
    "plt.xticks(rotation=45)\n",
    "plt.grid(True)\n",
    "plt.show()"
   ]
  },
  {
   "cell_type": "markdown",
   "metadata": {},
   "source": [
    "Conclusões e conjecturas:\n",
    "\n",
    "Grupo B tem mais receita acumulada que o Grupo A.\n",
    "\n",
    "O fato de o Grupo B ter mais receita acumulada, indica que a modificação implementada neste grupo foi eficaz, e pode indicar que os clientes estão comprando mais ou que o site ou estratégia de marketing está se tornando mais eficaz à medida que o teste avança."
   ]
  },
  {
   "cell_type": "markdown",
   "metadata": {},
   "source": [
    "**Gráfico do tamanho médio acumulado do pedido por grupo:**"
   ]
  },
  {
   "cell_type": "code",
   "execution_count": 20,
   "metadata": {},
   "outputs": [
    {
     "data": {
      "image/png": "[encoded data removed]",
      "text/plain": [
       "<Figure size 1000x600 with 1 Axes>"
      ]
     },
     "metadata": {},
     "output_type": "display_data"
    }
   ],
   "source": [
    "# Tamanho médio acumulado do pedido por grupo\n",
    "orders['count_cumulative'] = orders.groupby('group').cumcount()\n",
    "orders['average_order_value_cumulative'] = orders['revenue_cumulative'] / orders['count_cumulative']\n",
    "\n",
    "# Agrupar por data e grupo, calculando o tamanho médio acumulado do pedido\n",
    "avg_order_value_by_date = orders.groupby(['date', 'group'])['average_order_value_cumulative'].max().reset_index()\n",
    "\n",
    "# Plotar o gráfico\n",
    "plt.figure(figsize=(10, 6))\n",
    "for group in avg_order_value_by_date['group'].unique():\n",
    "    group_data = avg_order_value_by_date[avg_order_value_by_date['group'] == group]\n",
    "    plt.plot(group_data['date'], group_data['average_order_value_cumulative'], label=f'Grupo {group}')\n",
    "    \n",
    "plt.title('Tamanho Médio Acumulado do Pedido por Grupo (A/B)', fontsize=14)\n",
    "plt.ylabel('Tamanho Médio Acumulado do Pedido', fontsize=12)\n",
    "plt.legend(title=\"Grupos\")\n",
    "plt.grid(True)\n",
    "plt.xticks(rotation=45)\n",
    "plt.show()\n"
   ]
  },
  {
   "cell_type": "markdown",
   "metadata": {},
   "source": [
    "Conclusões e conjecturas:\n",
    "Grupo B apresenta um aumento significativo no tamanho médio do pedido, enquanto o Grupo A tem variação mais estável.\n",
    "\n",
    "O Grupo B parece ter um desempenho superior em termos de valor acumulado, com uma média maior de pedidos em relação ao Grupo A. Após o pico, a tendência do Grupo B se estabiliza, mas ainda assim permanece com um valor médio mais alto do que o Grupo A.\n",
    "\n",
    "O Grupo B pode estar recebendo uma estratégia de marketing mais focada em vendas de maior valor, como descontos progressivos, ofertas exclusivas ou melhores incentivos para compras maiores. Isso pode justificar os picos de receita observados."
   ]
  },
  {
   "cell_type": "markdown",
   "metadata": {},
   "source": [
    "**Gráfico da diferença relativa no tamanho médio acumulado do pedido para o grupo B em comparação com o grupo A:**"
   ]
  },
  {
   "cell_type": "code",
   "execution_count": 21,
   "metadata": {},
   "outputs": [
    {
     "data": {
      "image/png": "[encoded data removed]",
      "text/plain": [
       "<Figure size 1000x600 with 1 Axes>"
      ]
     },
     "metadata": {},
     "output_type": "display_data"
    }
   ],
   "source": [
    "# Agrupar os dados de 'orders' por data e grupo, e calcular o tamanho médio acumulado do pedido\n",
    "orders_grouped = orders.groupby(['date', 'group']).agg(total_revenue=('revenue', 'sum'),total_orders=('transactionId', 'count')).reset_index()\n",
    "\n",
    "# Tamanho médio do pedido por grupo\n",
    "orders_grouped['average_order_size'] = orders_grouped['total_revenue'] / orders_grouped['total_orders']\n",
    "\n",
    "# Cumsum (acumulado) do tamanho médio do pedido\n",
    "orders_grouped['cumsum_average_order_size'] = orders_grouped.groupby('group')['average_order_size'].cumsum()\n",
    "\n",
    "# Diferença relativa no tamanho médio acumulado do pedido para o grupo B em comparação com o grupo A\n",
    "group_a_cumsum = orders_grouped[orders_grouped['group'] == 'A']['cumsum_average_order_size']\n",
    "group_b_cumsum = orders_grouped[orders_grouped['group'] == 'B']['cumsum_average_order_size']\n",
    "\n",
    "# A diferença relativa\n",
    "relative_difference = ((group_b_cumsum.values - group_a_cumsum.values) / group_a_cumsum.values) * 100\n",
    "\n",
    "# Gráfico\n",
    "plt.figure(figsize=(10,6))\n",
    "plt.plot(orders_grouped['date'][orders_grouped['group'] == 'A'], relative_difference, label='Diferença Relativa')\n",
    "plt.ylabel('Diferença Relativa (%)')\n",
    "plt.title('Diferença Relativa no Tamanho Médio Acumulado do Pedido (Grupo B vs. Grupo A)')\n",
    "plt.legend()\n",
    "plt.grid(True)\n",
    "plt.xticks(rotation=45)\n",
    "plt.show()"
   ]
  },
  {
   "cell_type": "markdown",
   "metadata": {},
   "source": [
    "Conclusões e conjecturas:\n",
    "\n",
    "Podemos ver que no início de agosto, a diferença relativa entre os grupos apresenta uma grande variação positiva, com o grupo B tendo um desempenho superior ao grupo A. Porém depois houve uma queda abrupta na diferença relativa, com uma variação negativa.\n",
    "\n",
    "Isso sugere que o grupo B, que estava se destacando, começou a ter um desempenho pior em comparação com o grupo A, possivelmente devido a uma mudança no comportamento do consumidor, um erro de estratégia ou uma falha temporária em sua oferta.\n",
    "\n",
    "Após a queda, vemos uma recuperação e um aumento constante na diferença relativa, com o grupo B superando o grupo A novamente. Esse aumento pode indicar que o grupo B conseguiu recuperar o desempenho perdido ou implementar uma melhoria eficaz em suas estratégias, alcançando novamente um maior tamanho médio de pedido.\n",
    "\n",
    "Depois de 17 de agosto, a diferença relativa se estabiliza. Isso sugere que, após os ajustes realizados, o grupo B manteve um desempenho superior de forma consistente em relação ao grupo A, com uma diferença significativa no tamanho médio acumulado dos pedidos."
   ]
  },
  {
   "cell_type": "markdown",
   "metadata": {},
   "source": [
    "**Calculando a taxa de conversão de cada grupo como a proporção de pedidos para o número de visitas para cada dia, traçando as taxas de conversão diárias dos dois grupos e descrevendo a diferença:**"
   ]
  },
  {
   "cell_type": "code",
   "execution_count": 22,
   "metadata": {},
   "outputs": [
    {
     "data": {
      "image/png": "[encoded data removed]",
      "text/plain": [
       "<Figure size 1000x600 with 1 Axes>"
      ]
     },
     "metadata": {},
     "output_type": "display_data"
    }
   ],
   "source": [
    "# Número de pedidos por grupo e por dia\n",
    "orders_grouped = orders.groupby(['date', 'group']).agg(total_orders=('transactionId', 'count')).reset_index()\n",
    "\n",
    "# Combinar os dados de pedidos e visitas com base na data e no grupo\n",
    "merged_orders_visits = pd.merge(orders_grouped, visits, on=['date', 'group'])\n",
    "\n",
    "# Taxa de conversão\n",
    "merged_orders_visits['conversion_rate'] = merged_data['total_orders'] / merged_data['visits']\n",
    "\n",
    "# Plotar a taxa de conversão diária por grupo\n",
    "plt.figure(figsize=(10, 6))\n",
    "for group in merged_orders_visits['group'].unique():\n",
    "    group_data = merged_orders_visits[merged_orders_visits['group'] == group]\n",
    "    plt.plot(group_data['date'], group_data['conversion_rate'], label=f'Grupo {group}')\n",
    "\n",
    "plt.title('Taxa de Conversão Diária por Grupo')\n",
    "plt.ylabel('Taxa de Conversão')\n",
    "plt.legend(title=\"Grupos\")\n",
    "plt.xticks(rotation=45)\n",
    "plt.grid(True)\n",
    "plt.show()"
   ]
  },
  {
   "cell_type": "markdown",
   "metadata": {},
   "source": [
    "Conclusões e conjecturas:\n",
    "\n",
    "O Grupo B parece estar superando consistentemente o Grupo A na maior parte do tempo, o que indica que, em termos gerais, a estratégia ou intervenção aplicada ao Grupo B tem sido mais eficaz em converter visitas em pedidos.\n",
    "\n",
    "O pico de 15/08 no Grupo A sugere que houve um evento ou mudança significativa que fez com que a taxa de conversão do Grupo A fosse superior à do Grupo B neste dia específico. \n",
    "\n",
    "Porém os picos para baixo e para cima indicam uma volatilidade nas taxas de conversão."
   ]
  },
  {
   "cell_type": "markdown",
   "metadata": {},
   "source": [
    "**Gráfico da diferença relativa na conversão cumulativa para o grupo B em comparação com o grupo A:**"
   ]
  },
  {
   "cell_type": "code",
   "execution_count": 24,
   "metadata": {},
   "outputs": [
    {
     "data": {
      "image/png": "[encoded data removed]",
      "text/plain": [
       "<Figure size 1000x600 with 1 Axes>"
      ]
     },
     "metadata": {},
     "output_type": "display_data"
    }
   ],
   "source": [
    "# Conversão acumulada por grupo\n",
    "merged_orders_visits['conversion_rate_cumulative'] = merged_orders_visits.groupby('group')['conversion_rate'].cumsum()\n",
    "\n",
    "# Filtrar os dados para os grupos A e B\n",
    "group_a_cumsum_conversion = merged_orders_visits[merged_orders_visits['group'] == 'A']['conversion_rate_cumulative']\n",
    "group_b_cumsum_conversion = merged_orders_visits[merged_orders_visits['group'] == 'B']['conversion_rate_cumulative']\n",
    "\n",
    "# Diferença relativa na conversão cumulativa\n",
    "relative_conversion_difference = ((group_b_cumsum_conversion.values - group_a_cumsum_conversion.values) / group_a_cumsum_conversion.values) * 100\n",
    "\n",
    "# Criar o gráfico\n",
    "plt.figure(figsize=(10, 6))\n",
    "plt.plot(merged_orders_visits['date'][merged_orders_visits['group'] == 'A'], relative_conversion_difference, label='Diferença Relativa na Conversão Cumulativa')\n",
    "\n",
    "plt.title('Diferença Relativa na Conversão Cumulativa (Grupo B vs. Grupo A)')\n",
    "plt.ylabel('Diferença Relativa (%)')\n",
    "plt.legend()\n",
    "plt.xticks(rotation=45)\n",
    "plt.grid(True)\n",
    "plt.show()\n"
   ]
  },
  {
   "cell_type": "code",
   "execution_count": 15,
   "metadata": {},
   "outputs": [
    {
     "name": "stdout",
     "output_type": "stream",
     "text": [
      "Percentil 95: 2.0\n",
      "Percentil 99: 4.0\n",
      "Ponto de anomalia (acima de 4.0 pedidos)\n"
     ]
    }
   ],
   "source": [
    "# Número de pedidos por usuário\n",
    "orders_per_user = orders.groupby('visitorId')['transactionId'].count()\n",
    "\n",
    "# Percentis 95 e 99\n",
    "percentil_95 = orders_per_user.quantile(0.95)\n",
    "percentil_99 = orders_per_user.quantile(0.99)\n",
    "\n",
    "print(f\"Percentil 95: {percentil_95}\")\n",
    "print(f\"Percentil 99: {percentil_99}\")\n",
    "print(f\"Ponto de anomalia (acima de {percentil_99} pedidos)\")"
   ]
  },
  {
   "cell_type": "markdown",
   "metadata": {},
   "source": [
    "**Gráfico de dispersão dos preços dos pedidos:**"
   ]
  },
  {
   "cell_type": "code",
   "execution_count": 16,
   "metadata": {},
   "outputs": [
    {
     "data": {
      "image/png": "[encoded data removed]",
      "text/plain": [
       "<Figure size 1000x600 with 1 Axes>"
      ]
     },
     "metadata": {},
     "output_type": "display_data"
    }
   ],
   "source": [
    "plt.figure(figsize=(10, 6))\n",
    "\n",
    "# CGráfico de dispersão\n",
    "plt.scatter(orders['visitorId'], orders['revenue'], label='Preço dos Pedidos')\n",
    "\n",
    "# Adicionar título e rótulos aos eixos\n",
    "plt.title('Gráfico de Dispersão dos Preços dos Pedidos', fontsize=14)\n",
    "plt.xlabel('ID do Pedido', fontsize=12)\n",
    "plt.ylabel('Preço do Pedido', fontsize=12)\n",
    "plt.grid(True)\n",
    "plt.legend()\n",
    "plt.show()"
   ]
  },
  {
   "cell_type": "markdown",
   "metadata": {},
   "source": [
    "Conclusões e conjecturas:\n",
    "\n",
    "Temos um valor de 20.000 na diferença relativa na conversão cumulativa entre os grupos A e B, que é um valor atípico significativo. Esse valor está muito distante da tendência geral dos dados, como evidenciado pela maioria dos pontos até 2500."
   ]
  },
  {
   "cell_type": "markdown",
   "metadata": {},
   "source": [
    "**Calculando os percentis 95 e 99 dos preços dos pedidos e definindo em que ponto se torna uma anomalia:**"
   ]
  },
  {
   "cell_type": "code",
   "execution_count": 17,
   "metadata": {},
   "outputs": [
    {
     "name": "stdout",
     "output_type": "stream",
     "text": [
      "Percentil 95: 435.54\n",
      "Percentil 99: 900.9039999999999\n",
      "Anomalias (preços acima do percentil 99): 900.9039999999999 \n"
     ]
    }
   ],
   "source": [
    "# Percentis 95 e 99 dos preços dos pedidos\n",
    "percentil_95_price = orders['revenue'].quantile(0.95)\n",
    "percentil_99_price = orders['revenue'].quantile(0.99)\n",
    "\n",
    "print(f\"Percentil 95: {percentil_95_price}\")\n",
    "print(f\"Percentil 99: {percentil_99_price}\")\n",
    "print(f\"Anomalias (preços acima do percentil 99): {percentil_99_price} \")"
   ]
  },
  {
   "cell_type": "markdown",
   "metadata": {},
   "source": [
    "**Significância estatística da diferença na conversão entre os grupos usando os dados brutos:**"
   ]
  },
  {
   "cell_type": "code",
   "execution_count": 45,
   "metadata": {},
   "outputs": [
    {
     "name": "stdout",
     "output_type": "stream",
     "text": [
      "Valor p: 0.017\n",
      "Variação relativa na conversão: 0.138\n"
     ]
    }
   ],
   "source": [
    "# Agrupar pedidos por usuário\n",
    "orders_by_userA = orders[orders['group'] == 'A'].groupby('visitorId', as_index=False).agg({'transactionId': pd.Series.nunique})\n",
    "orders_by_userA.columns = ['user_id', 'orders']\n",
    "\n",
    "orders_by_userB = orders[orders['group'] == 'B'].groupby('visitorId', as_index=False).agg({'transactionId': pd.Series.nunique})\n",
    "orders_by_userB.columns = ['user_id', 'orders']\n",
    "\n",
    "# Criar amostras para o grupo A\n",
    "sampleA = pd.concat([orders_by_userA['orders'], pd.Series(0, index=np.arange(visits[visits['group'] == 'A']['visits'].sum() - len(orders_by_userA['orders'])), name='orders')], axis=0)\n",
    "\n",
    "# Criar amostras para o grupo B\n",
    "sampleB = pd.concat([orders_by_userB['orders'], pd.Series(0, index=np.arange(visits[visits['group'] == 'B']['visits'].sum() - len(orders_by_userB['orders'])), name='orders')], axis=0)\n",
    "\n",
    "# Teste\n",
    "p_value = mannwhitneyu(sampleA, sampleB)[1]\n",
    "conversion_difference = sampleB.mean() / sampleA.mean() - 1\n",
    "\n",
    "print(f\"Valor p: {p_value:.3f}\")\n",
    "print(f\"Variação relativa na conversão: {conversion_difference:.3f}\")\n"
   ]
  },
  {
   "cell_type": "markdown",
   "metadata": {},
   "source": [
    "Conclusões e conjecturas:\n",
    "\n",
    "O p-valor de 0.017 está abaixo do limite de significância de 0.05, o que indica que a diferença entre os grupos A e B é estatisticamente significativa.\n",
    "\n",
    "A variação relativa de 0.138 significa que o grupo B tem uma taxa de conversão 13.8% maior do que o grupo A. Isso sugere que, em média, o grupo B está convertendo mais visitantes em compras do que o grupo A."
   ]
  },
  {
   "cell_type": "markdown",
   "metadata": {},
   "source": [
    "**Significância estatística da diferença no tamanho médio do pedido entre os grupos usando os dados brutos:**"
   ]
  },
  {
   "cell_type": "code",
   "execution_count": 52,
   "metadata": {},
   "outputs": [
    {
     "name": "stdout",
     "output_type": "stream",
     "text": [
      "0.692\n",
      "0.252\n"
     ]
    }
   ],
   "source": [
    "print('{0:.3f}'.format(stats.mannwhitneyu(orders[orders['group']=='A']['revenue'], orders[orders['group']=='B']['revenue'])[1]))\n",
    "print('{0:.3f}'.format(orders[orders['group']=='B']['revenue'].mean() / orders[orders['group']=='A']['revenue'].mean() - 1))"
   ]
  },
  {
   "cell_type": "markdown",
   "metadata": {},
   "source": [
    "Conclusões e conjecturas:\n",
    "\n",
    "O p-valor de 0.692 é acima do limite de significância comumente adotado (0.05 ou 0.01). Isso significa que não há diferença estatisticamente significativa entre os tamanhos dos pedidos dos grupos A e B."
   ]
  },
  {
   "cell_type": "markdown",
   "metadata": {},
   "source": [
    "**Encontre a significância estatística da diferença na conversão entre os grupos usando os dados filtrados. Tire conclusões e crie conjecturas.**"
   ]
  },
  {
   "cell_type": "code",
   "execution_count": 53,
   "metadata": {},
   "outputs": [
    {
     "name": "stdout",
     "output_type": "stream",
     "text": [
      "Valor p: 0.01778\n",
      "Variação relativa na conversão: 0.143\n"
     ]
    }
   ],
   "source": [
    "# Criando os dados filtrados\n",
    "user_with_many_orders = pd.concat([orders_by_userA[orders_by_userA['orders'] > 5]['user_id'], orders_by_userB[orders_by_userB['orders'] > 4]['user_id']], axis = 0)\n",
    "\n",
    "# Variavel para usuários que gastaram mais de $5000\n",
    "users_with_expensive_orders = orders[orders['revenue'] > 5000]['visitorId']\n",
    "\n",
    "# Juntando as tabelas\n",
    "ab_normal_users = pd.concat([user_with_many_orders, users_with_expensive_orders], axis = 0).drop_duplicates().sort_values()\n",
    "\n",
    "# Dados filtrados por grupo\n",
    "sampleA_filtered = pd.concat([orders_by_userA[np.logical_not(orders_by_userA['user_id'].isin(ab_normal_users))]['orders'], pd.Series(0, index=np.arange(visits[visits['group']=='A']['visits'].sum() - len(orders_by_userA['orders'])), name='orders')], axis=0)\n",
    "sampleB_filtered = pd.concat([orders_by_userB[np.logical_not(orders_by_userB['user_id'].isin(ab_normal_users))]['orders'], pd.Series(0, index=np.arange(visits[visits['group']=='B']['visits'].sum() - len(orders_by_userB['orders'])), name='orders')], axis=0)\n",
    "\n",
    "print(\"Valor p: {0:.5f}\".format(stats.mannwhitneyu(sampleA_filtered, sampleB_filtered)[1]))\n",
    "print(\"Variação relativa na conversão: {0:.3f}\".format(sampleB_filtered.mean()/sampleA_filtered.mean()-1))\n"
   ]
  },
  {
   "cell_type": "markdown",
   "metadata": {},
   "source": [
    "Conclusões e conjecturas:\n",
    "\n",
    "O valor p de 0.01778 indica que a diferença observada na conversão entre os grupos A e B é estatisticamente significativa, ou seja, não é provavelmente resultado de um acaso. A conversão no grupo B é 14,3% maior que no grupo A, o que sugere que o grupo B pode estar apresentando um desempenho superior em termos de conversão."
   ]
  },
  {
   "cell_type": "markdown",
   "metadata": {},
   "source": [
    "**Significância estatística da diferença no tamanho médio do pedido entre os grupos usando os dados filtrados:**"
   ]
  },
  {
   "cell_type": "code",
   "execution_count": 55,
   "metadata": {},
   "outputs": [
    {
     "name": "stdout",
     "output_type": "stream",
     "text": [
      "Valor p: 0.922\n",
      "Variação relativa na conversão:: -0.0361\n"
     ]
    }
   ],
   "source": [
    "print('Valor p: {0:.3f}'.format(stats.mannwhitneyu(\n",
    "    orders[np.logical_and(\n",
    "    orders['group']=='A',\n",
    "    np.logical_not(orders['visitorId'].isin(ab_normal_users)))]['revenue'],\n",
    "    orders[np.logical_and(\n",
    "    orders['group']=='B',\n",
    "    np.logical_not(orders['visitorId'].isin(ab_normal_users)))]['revenue'])[1]))\n",
    "\n",
    "print('Variação relativa na conversão:: {0:.3}'.format(\n",
    "    orders[np.logical_and(orders['group']=='B',np.logical_not(orders['visitorId'].isin(ab_normal_users)))]['revenue'].mean()/\n",
    "    orders[np.logical_and(\n",
    "    orders['group']=='A',\n",
    "    np.logical_not(orders['visitorId'].isin(ab_normal_users)))]['revenue'].mean() - 1 ))\n"
   ]
  },
  {
   "cell_type": "markdown",
   "metadata": {},
   "source": [
    "Conclusões e conjecturas::\n",
    "\n",
    "O valor p de 0.922 é muito alto,o que indica que não há evidência suficiente para rejeitar a hipótese nula. O valor -0.0361 indica que o grupo B teve uma receita média 3.61% menor do que o grupo A, após a exclusão de usuários com comportamentos atípicos."
   ]
  },
  {
   "cell_type": "markdown",
   "metadata": {},
   "source": [
    "**Conclusão e decisão:**"
   ]
  },
  {
   "cell_type": "markdown",
   "metadata": {},
   "source": [
    "Com base nos fatos apurados, o teste deve ser considerado bem-sucedido. O grupo B apresentou melhores resultados que o grupo A.\n",
    "Há uma diferença estatisticamente significativa na conversão.\n",
    "Não há diferença estatisticamente significativa na média da verificação, e a diferença relativa foi obtida por acaso para influenciar a decisão de continuar o teste.\n",
    "Não faz sentido continuar, porque a probabilidade de, dados os dados disponíveis, o segmento A ser realmente melhor que o segmento B é praticamente zero."
   ]
  }
 ],
 "metadata": {
  "ExecuteTimeLog": [
   {
    "duration": 451,
    "start_time": "2024-12-04T05:21:26.571Z"
   },
   {
    "duration": 23,
    "start_time": "2024-12-04T05:21:55.394Z"
   },
   {
    "duration": 322,
    "start_time": "2024-12-04T12:47:55.777Z"
   },
   {
    "duration": 8,
    "start_time": "2024-12-04T12:48:43.906Z"
   },
   {
    "duration": 184,
    "start_time": "2024-12-04T12:49:09.202Z"
   },
   {
    "duration": 10,
    "start_time": "2024-12-04T12:49:17.444Z"
   },
   {
    "duration": 9,
    "start_time": "2024-12-04T12:49:56.084Z"
   },
   {
    "duration": 10,
    "start_time": "2024-12-04T12:50:27.237Z"
   },
   {
    "duration": 12,
    "start_time": "2024-12-04T12:50:56.376Z"
   },
   {
    "duration": 12,
    "start_time": "2024-12-04T12:52:52.866Z"
   },
   {
    "duration": 10,
    "start_time": "2024-12-04T12:53:17.119Z"
   },
   {
    "duration": 10,
    "start_time": "2024-12-04T12:53:41.843Z"
   },
   {
    "duration": 10,
    "start_time": "2024-12-04T12:55:24.948Z"
   },
   {
    "duration": 8,
    "start_time": "2024-12-04T12:56:13.574Z"
   },
   {
    "duration": 295,
    "start_time": "2024-12-04T12:56:37.412Z"
   },
   {
    "duration": 9,
    "start_time": "2024-12-04T12:56:37.709Z"
   },
   {
    "duration": 16,
    "start_time": "2024-12-04T12:56:37.720Z"
   },
   {
    "duration": 10,
    "start_time": "2024-12-04T12:56:37.738Z"
   },
   {
    "duration": 9,
    "start_time": "2024-12-04T12:56:37.751Z"
   },
   {
    "duration": 9,
    "start_time": "2024-12-04T12:56:37.761Z"
   },
   {
    "duration": 12,
    "start_time": "2024-12-04T12:58:23.450Z"
   },
   {
    "duration": 156,
    "start_time": "2024-12-05T02:21:05.478Z"
   },
   {
    "duration": 332,
    "start_time": "2024-12-05T02:21:29.611Z"
   },
   {
    "duration": 9,
    "start_time": "2024-12-05T02:21:29.945Z"
   },
   {
    "duration": 12,
    "start_time": "2024-12-05T02:21:29.956Z"
   },
   {
    "duration": 10,
    "start_time": "2024-12-05T02:21:29.970Z"
   },
   {
    "duration": 9,
    "start_time": "2024-12-05T02:21:29.983Z"
   },
   {
    "duration": 10,
    "start_time": "2024-12-05T02:21:29.993Z"
   },
   {
    "duration": 563,
    "start_time": "2024-12-05T02:21:30.004Z"
   },
   {
    "duration": 3,
    "start_time": "2024-12-05T02:27:44.827Z"
   },
   {
    "duration": 40,
    "start_time": "2024-12-05T02:28:14.644Z"
   },
   {
    "duration": 14,
    "start_time": "2024-12-05T02:32:24.611Z"
   },
   {
    "duration": 10,
    "start_time": "2024-12-05T02:32:25.385Z"
   },
   {
    "duration": 12,
    "start_time": "2024-12-05T02:32:26.077Z"
   },
   {
    "duration": 11,
    "start_time": "2024-12-05T02:32:27.131Z"
   },
   {
    "duration": 11,
    "start_time": "2024-12-05T02:32:28.498Z"
   },
   {
    "duration": 14,
    "start_time": "2024-12-05T02:32:30.850Z"
   },
   {
    "duration": 46,
    "start_time": "2024-12-05T02:32:35.162Z"
   },
   {
    "duration": 45,
    "start_time": "2024-12-05T02:33:01.336Z"
   },
   {
    "duration": 51,
    "start_time": "2024-12-05T02:33:12.581Z"
   },
   {
    "duration": 52,
    "start_time": "2024-12-05T02:33:37.541Z"
   },
   {
    "duration": 390,
    "start_time": "2024-12-05T02:35:35.793Z"
   },
   {
    "duration": 37,
    "start_time": "2024-12-05T02:37:32.198Z"
   },
   {
    "duration": 59,
    "start_time": "2024-12-05T02:38:47.888Z"
   },
   {
    "duration": 58,
    "start_time": "2024-12-05T02:39:00.376Z"
   },
   {
    "duration": 12,
    "start_time": "2024-12-05T02:39:27.799Z"
   },
   {
    "duration": 313,
    "start_time": "2024-12-05T02:39:44.100Z"
   },
   {
    "duration": 10,
    "start_time": "2024-12-05T02:39:44.416Z"
   },
   {
    "duration": 10,
    "start_time": "2024-12-05T02:39:44.428Z"
   },
   {
    "duration": 10,
    "start_time": "2024-12-05T02:39:44.439Z"
   },
   {
    "duration": 26,
    "start_time": "2024-12-05T02:39:44.451Z"
   },
   {
    "duration": 10,
    "start_time": "2024-12-05T02:39:44.479Z"
   },
   {
    "duration": 585,
    "start_time": "2024-12-05T02:39:44.490Z"
   },
   {
    "duration": 0,
    "start_time": "2024-12-05T02:39:45.077Z"
   },
   {
    "duration": 38,
    "start_time": "2024-12-05T02:41:14.969Z"
   },
   {
    "duration": 3,
    "start_time": "2024-12-05T02:44:31.240Z"
   },
   {
    "duration": 3,
    "start_time": "2024-12-05T02:44:47.823Z"
   },
   {
    "duration": 307,
    "start_time": "2024-12-05T02:46:08.409Z"
   },
   {
    "duration": 9,
    "start_time": "2024-12-05T02:46:08.719Z"
   },
   {
    "duration": 4,
    "start_time": "2024-12-05T02:46:08.729Z"
   },
   {
    "duration": 12,
    "start_time": "2024-12-05T02:46:08.735Z"
   },
   {
    "duration": 25,
    "start_time": "2024-12-05T02:46:08.750Z"
   },
   {
    "duration": 9,
    "start_time": "2024-12-05T02:46:08.776Z"
   },
   {
    "duration": 10,
    "start_time": "2024-12-05T02:46:08.787Z"
   },
   {
    "duration": 563,
    "start_time": "2024-12-05T02:46:08.798Z"
   },
   {
    "duration": 0,
    "start_time": "2024-12-05T02:46:09.363Z"
   },
   {
    "duration": 43,
    "start_time": "2024-12-05T02:46:36.015Z"
   },
   {
    "duration": 38,
    "start_time": "2024-12-05T02:47:36.421Z"
   },
   {
    "duration": 11,
    "start_time": "2024-12-05T02:49:03.265Z"
   },
   {
    "duration": 11,
    "start_time": "2024-12-05T02:49:04.851Z"
   },
   {
    "duration": 288,
    "start_time": "2024-12-05T02:49:14.767Z"
   },
   {
    "duration": 10,
    "start_time": "2024-12-05T02:49:15.057Z"
   },
   {
    "duration": 4,
    "start_time": "2024-12-05T02:49:15.071Z"
   },
   {
    "duration": 10,
    "start_time": "2024-12-05T02:49:15.077Z"
   },
   {
    "duration": 9,
    "start_time": "2024-12-05T02:49:15.089Z"
   },
   {
    "duration": 9,
    "start_time": "2024-12-05T02:49:15.100Z"
   },
   {
    "duration": 10,
    "start_time": "2024-12-05T02:49:15.110Z"
   },
   {
    "duration": 7,
    "start_time": "2024-12-05T02:49:15.122Z"
   },
   {
    "duration": 3,
    "start_time": "2024-12-05T02:49:15.170Z"
   },
   {
    "duration": 6,
    "start_time": "2024-12-05T02:49:46.843Z"
   },
   {
    "duration": 7,
    "start_time": "2024-12-05T02:51:51.534Z"
   },
   {
    "duration": 7,
    "start_time": "2024-12-05T02:52:38.633Z"
   },
   {
    "duration": 312,
    "start_time": "2024-12-05T02:53:15.470Z"
   },
   {
    "duration": 12,
    "start_time": "2024-12-05T02:53:15.784Z"
   },
   {
    "duration": 3,
    "start_time": "2024-12-05T02:53:15.798Z"
   },
   {
    "duration": 12,
    "start_time": "2024-12-05T02:53:15.803Z"
   },
   {
    "duration": 10,
    "start_time": "2024-12-05T02:53:15.819Z"
   },
   {
    "duration": 11,
    "start_time": "2024-12-05T02:53:15.831Z"
   },
   {
    "duration": 35,
    "start_time": "2024-12-05T02:53:15.843Z"
   },
   {
    "duration": 10,
    "start_time": "2024-12-05T02:53:15.880Z"
   },
   {
    "duration": 7,
    "start_time": "2024-12-05T02:53:15.892Z"
   },
   {
    "duration": 19,
    "start_time": "2024-12-05T02:55:07.480Z"
   },
   {
    "duration": 11,
    "start_time": "2024-12-05T02:55:26.596Z"
   },
   {
    "duration": 14,
    "start_time": "2024-12-05T02:56:28.509Z"
   },
   {
    "duration": 326,
    "start_time": "2024-12-05T03:00:03.400Z"
   },
   {
    "duration": 14,
    "start_time": "2024-12-05T03:00:03.728Z"
   },
   {
    "duration": 3,
    "start_time": "2024-12-05T03:00:03.745Z"
   },
   {
    "duration": 21,
    "start_time": "2024-12-05T03:00:03.750Z"
   },
   {
    "duration": 11,
    "start_time": "2024-12-05T03:00:03.774Z"
   },
   {
    "duration": 9,
    "start_time": "2024-12-05T03:00:03.786Z"
   },
   {
    "duration": 11,
    "start_time": "2024-12-05T03:00:03.797Z"
   },
   {
    "duration": 9,
    "start_time": "2024-12-05T03:00:03.810Z"
   },
   {
    "duration": 7,
    "start_time": "2024-12-05T03:00:03.821Z"
   },
   {
    "duration": 508,
    "start_time": "2024-12-05T03:00:03.830Z"
   },
   {
    "duration": 30,
    "start_time": "2024-12-05T03:02:05.611Z"
   },
   {
    "duration": 16,
    "start_time": "2024-12-05T03:02:54.346Z"
   },
   {
    "duration": 13,
    "start_time": "2024-12-05T03:03:01.825Z"
   },
   {
    "duration": 317,
    "start_time": "2024-12-05T03:03:25.199Z"
   },
   {
    "duration": 11,
    "start_time": "2024-12-05T03:03:25.518Z"
   },
   {
    "duration": 3,
    "start_time": "2024-12-05T03:03:25.532Z"
   },
   {
    "duration": 12,
    "start_time": "2024-12-05T03:03:25.536Z"
   },
   {
    "duration": 24,
    "start_time": "2024-12-05T03:03:25.551Z"
   },
   {
    "duration": 10,
    "start_time": "2024-12-05T03:03:25.576Z"
   },
   {
    "duration": 9,
    "start_time": "2024-12-05T03:03:25.588Z"
   },
   {
    "duration": 9,
    "start_time": "2024-12-05T03:03:25.599Z"
   },
   {
    "duration": 8,
    "start_time": "2024-12-05T03:03:25.610Z"
   },
   {
    "duration": 13,
    "start_time": "2024-12-05T03:03:25.620Z"
   },
   {
    "duration": 2019,
    "start_time": "2024-12-05T03:11:39.359Z"
   },
   {
    "duration": 478,
    "start_time": "2024-12-05T03:12:38.180Z"
   },
   {
    "duration": 11,
    "start_time": "2024-12-05T03:12:38.660Z"
   },
   {
    "duration": 4,
    "start_time": "2024-12-05T03:12:38.673Z"
   },
   {
    "duration": 11,
    "start_time": "2024-12-05T03:12:38.678Z"
   },
   {
    "duration": 9,
    "start_time": "2024-12-05T03:12:38.692Z"
   },
   {
    "duration": 10,
    "start_time": "2024-12-05T03:12:38.702Z"
   },
   {
    "duration": 9,
    "start_time": "2024-12-05T03:12:38.713Z"
   },
   {
    "duration": 46,
    "start_time": "2024-12-05T03:12:38.724Z"
   },
   {
    "duration": 6,
    "start_time": "2024-12-05T03:12:38.772Z"
   },
   {
    "duration": 13,
    "start_time": "2024-12-05T03:12:38.780Z"
   },
   {
    "duration": 198,
    "start_time": "2024-12-05T03:12:38.794Z"
   },
   {
    "duration": 164,
    "start_time": "2024-12-05T03:12:48.198Z"
   },
   {
    "duration": 6,
    "start_time": "2024-12-05T03:13:31.299Z"
   },
   {
    "duration": 348,
    "start_time": "2024-12-05T03:18:43.450Z"
   },
   {
    "duration": 305,
    "start_time": "2024-12-05T03:18:51.380Z"
   },
   {
    "duration": 293,
    "start_time": "2024-12-05T03:19:00.722Z"
   },
   {
    "duration": 274,
    "start_time": "2024-12-05T03:19:35.918Z"
   },
   {
    "duration": 181,
    "start_time": "2024-12-05T03:19:47.250Z"
   },
   {
    "duration": 4,
    "start_time": "2024-12-05T03:20:29.178Z"
   },
   {
    "duration": 151,
    "start_time": "2024-12-05T03:21:20.069Z"
   },
   {
    "duration": 140,
    "start_time": "2024-12-05T03:21:33.181Z"
   },
   {
    "duration": 162,
    "start_time": "2024-12-05T03:21:38.817Z"
   },
   {
    "duration": 227,
    "start_time": "2024-12-05T03:24:27.524Z"
   },
   {
    "duration": 174,
    "start_time": "2024-12-05T03:25:58.624Z"
   },
   {
    "duration": 188,
    "start_time": "2024-12-05T03:35:33.974Z"
   },
   {
    "duration": 277,
    "start_time": "2024-12-05T03:36:40.384Z"
   },
   {
    "duration": 299,
    "start_time": "2024-12-05T03:37:11.122Z"
   },
   {
    "duration": 175,
    "start_time": "2024-12-05T03:37:31.682Z"
   },
   {
    "duration": 177,
    "start_time": "2024-12-05T03:37:36.880Z"
   },
   {
    "duration": 489,
    "start_time": "2024-12-05T03:43:21.904Z"
   },
   {
    "duration": 11,
    "start_time": "2024-12-05T03:43:22.396Z"
   },
   {
    "duration": 4,
    "start_time": "2024-12-05T03:43:22.409Z"
   },
   {
    "duration": 11,
    "start_time": "2024-12-05T03:43:22.415Z"
   },
   {
    "duration": 9,
    "start_time": "2024-12-05T03:43:22.428Z"
   },
   {
    "duration": 33,
    "start_time": "2024-12-05T03:43:22.439Z"
   },
   {
    "duration": 11,
    "start_time": "2024-12-05T03:43:22.474Z"
   },
   {
    "duration": 8,
    "start_time": "2024-12-05T03:43:22.486Z"
   },
   {
    "duration": 6,
    "start_time": "2024-12-05T03:43:22.496Z"
   },
   {
    "duration": 13,
    "start_time": "2024-12-05T03:43:22.504Z"
   },
   {
    "duration": 230,
    "start_time": "2024-12-05T03:43:22.519Z"
   },
   {
    "duration": 239,
    "start_time": "2024-12-05T03:43:22.751Z"
   },
   {
    "duration": 179,
    "start_time": "2024-12-05T03:43:22.992Z"
   },
   {
    "duration": 287,
    "start_time": "2024-12-05T03:45:21.392Z"
   },
   {
    "duration": 322,
    "start_time": "2024-12-05T03:50:14.129Z"
   },
   {
    "duration": 196,
    "start_time": "2024-12-05T03:54:16.515Z"
   },
   {
    "duration": 494,
    "start_time": "2024-12-05T03:54:30.191Z"
   },
   {
    "duration": 11,
    "start_time": "2024-12-05T03:54:30.687Z"
   },
   {
    "duration": 4,
    "start_time": "2024-12-05T03:54:30.699Z"
   },
   {
    "duration": 11,
    "start_time": "2024-12-05T03:54:30.705Z"
   },
   {
    "duration": 10,
    "start_time": "2024-12-05T03:54:30.719Z"
   },
   {
    "duration": 10,
    "start_time": "2024-12-05T03:54:30.730Z"
   },
   {
    "duration": 35,
    "start_time": "2024-12-05T03:54:30.741Z"
   },
   {
    "duration": 8,
    "start_time": "2024-12-05T03:54:30.778Z"
   },
   {
    "duration": 7,
    "start_time": "2024-12-05T03:54:30.788Z"
   },
   {
    "duration": 13,
    "start_time": "2024-12-05T03:54:30.796Z"
   },
   {
    "duration": 203,
    "start_time": "2024-12-05T03:54:30.810Z"
   },
   {
    "duration": 223,
    "start_time": "2024-12-05T03:54:31.015Z"
   },
   {
    "duration": 177,
    "start_time": "2024-12-05T03:54:31.240Z"
   },
   {
    "duration": 186,
    "start_time": "2024-12-05T03:58:44.924Z"
   },
   {
    "duration": 190,
    "start_time": "2024-12-05T04:08:15.823Z"
   },
   {
    "duration": 479,
    "start_time": "2024-12-05T04:08:28.903Z"
   },
   {
    "duration": 12,
    "start_time": "2024-12-05T04:08:29.384Z"
   },
   {
    "duration": 4,
    "start_time": "2024-12-05T04:08:29.398Z"
   },
   {
    "duration": 12,
    "start_time": "2024-12-05T04:08:29.404Z"
   },
   {
    "duration": 10,
    "start_time": "2024-12-05T04:08:29.418Z"
   },
   {
    "duration": 39,
    "start_time": "2024-12-05T04:08:29.431Z"
   },
   {
    "duration": 10,
    "start_time": "2024-12-05T04:08:29.471Z"
   },
   {
    "duration": 8,
    "start_time": "2024-12-05T04:08:29.483Z"
   },
   {
    "duration": 6,
    "start_time": "2024-12-05T04:08:29.493Z"
   },
   {
    "duration": 14,
    "start_time": "2024-12-05T04:08:29.500Z"
   },
   {
    "duration": 205,
    "start_time": "2024-12-05T04:08:29.517Z"
   },
   {
    "duration": 205,
    "start_time": "2024-12-05T04:08:29.725Z"
   },
   {
    "duration": 176,
    "start_time": "2024-12-05T04:08:29.932Z"
   },
   {
    "duration": 197,
    "start_time": "2024-12-05T04:08:30.112Z"
   },
   {
    "duration": 196,
    "start_time": "2024-12-05T04:08:50.365Z"
   },
   {
    "duration": 184,
    "start_time": "2024-12-05T04:09:03.802Z"
   },
   {
    "duration": 467,
    "start_time": "2024-12-05T04:18:11.208Z"
   },
   {
    "duration": 12,
    "start_time": "2024-12-05T04:18:11.679Z"
   },
   {
    "duration": 5,
    "start_time": "2024-12-05T04:18:11.692Z"
   },
   {
    "duration": 10,
    "start_time": "2024-12-05T04:18:11.700Z"
   },
   {
    "duration": 11,
    "start_time": "2024-12-05T04:18:11.711Z"
   },
   {
    "duration": 10,
    "start_time": "2024-12-05T04:18:11.724Z"
   },
   {
    "duration": 36,
    "start_time": "2024-12-05T04:18:11.736Z"
   },
   {
    "duration": 9,
    "start_time": "2024-12-05T04:18:11.774Z"
   },
   {
    "duration": 6,
    "start_time": "2024-12-05T04:18:11.785Z"
   },
   {
    "duration": 14,
    "start_time": "2024-12-05T04:18:11.794Z"
   },
   {
    "duration": 211,
    "start_time": "2024-12-05T04:18:11.809Z"
   },
   {
    "duration": 236,
    "start_time": "2024-12-05T04:18:12.022Z"
   },
   {
    "duration": 181,
    "start_time": "2024-12-05T04:18:12.260Z"
   },
   {
    "duration": 198,
    "start_time": "2024-12-05T04:18:12.443Z"
   },
   {
    "duration": 363,
    "start_time": "2024-12-05T04:19:15.431Z"
   },
   {
    "duration": 39,
    "start_time": "2024-12-05T04:19:44.018Z"
   },
   {
    "duration": 43,
    "start_time": "2024-12-05T04:22:51.123Z"
   },
   {
    "duration": 166,
    "start_time": "2024-12-05T05:53:03.192Z"
   },
   {
    "duration": 2591,
    "start_time": "2024-12-05T05:55:11.639Z"
   },
   {
    "duration": 18,
    "start_time": "2024-12-05T06:01:29.002Z"
   },
   {
    "duration": 426,
    "start_time": "2024-12-05T06:04:29.790Z"
   },
   {
    "duration": 17,
    "start_time": "2024-12-05T06:06:26.049Z"
   },
   {
    "duration": 15,
    "start_time": "2024-12-05T06:08:16.904Z"
   },
   {
    "duration": 17,
    "start_time": "2024-12-05T06:09:12.417Z"
   },
   {
    "duration": 469,
    "start_time": "2024-12-05T06:09:27.092Z"
   },
   {
    "duration": 12,
    "start_time": "2024-12-05T06:09:27.563Z"
   },
   {
    "duration": 4,
    "start_time": "2024-12-05T06:09:27.577Z"
   },
   {
    "duration": 10,
    "start_time": "2024-12-05T06:09:27.583Z"
   },
   {
    "duration": 18,
    "start_time": "2024-12-05T06:09:27.596Z"
   },
   {
    "duration": 10,
    "start_time": "2024-12-05T06:09:27.616Z"
   },
   {
    "duration": 11,
    "start_time": "2024-12-05T06:09:27.628Z"
   },
   {
    "duration": 9,
    "start_time": "2024-12-05T06:09:27.640Z"
   },
   {
    "duration": 6,
    "start_time": "2024-12-05T06:09:27.651Z"
   },
   {
    "duration": 13,
    "start_time": "2024-12-05T06:09:27.659Z"
   },
   {
    "duration": 221,
    "start_time": "2024-12-05T06:09:27.673Z"
   },
   {
    "duration": 240,
    "start_time": "2024-12-05T06:09:27.896Z"
   },
   {
    "duration": 183,
    "start_time": "2024-12-05T06:09:28.138Z"
   },
   {
    "duration": 194,
    "start_time": "2024-12-05T06:09:28.324Z"
   },
   {
    "duration": 204,
    "start_time": "2024-12-05T06:09:28.520Z"
   },
   {
    "duration": 12,
    "start_time": "2024-12-05T06:16:29.466Z"
   },
   {
    "duration": 188,
    "start_time": "2024-12-05T06:16:43.738Z"
   },
   {
    "duration": 292,
    "start_time": "2024-12-05T06:17:56.743Z"
   },
   {
    "duration": 338,
    "start_time": "2024-12-05T06:18:42.055Z"
   },
   {
    "duration": 300,
    "start_time": "2024-12-05T06:23:24.637Z"
   },
   {
    "duration": 182,
    "start_time": "2024-12-05T06:28:10.924Z"
   },
   {
    "duration": 176,
    "start_time": "2024-12-05T06:28:19.073Z"
   },
   {
    "duration": 296,
    "start_time": "2024-12-05T06:29:28.519Z"
   },
   {
    "duration": 428,
    "start_time": "2024-12-05T06:30:26.883Z"
   },
   {
    "duration": 178,
    "start_time": "2024-12-05T06:30:36.461Z"
   },
   {
    "duration": 180,
    "start_time": "2024-12-05T06:31:03.839Z"
   },
   {
    "duration": 190,
    "start_time": "2024-12-05T06:33:04.739Z"
   },
   {
    "duration": 180,
    "start_time": "2024-12-05T06:34:01.870Z"
   },
   {
    "duration": 6,
    "start_time": "2024-12-05T06:35:28.575Z"
   },
   {
    "duration": 7,
    "start_time": "2024-12-05T06:38:32.355Z"
   },
   {
    "duration": 6,
    "start_time": "2024-12-05T06:38:54.853Z"
   },
   {
    "duration": 5,
    "start_time": "2024-12-05T06:38:59.758Z"
   },
   {
    "duration": 6,
    "start_time": "2024-12-05T06:39:19.004Z"
   },
   {
    "duration": 45,
    "start_time": "2024-12-05T06:42:42.690Z"
   },
   {
    "duration": 48,
    "start_time": "2024-12-05T06:43:03.384Z"
   },
   {
    "duration": 477,
    "start_time": "2024-12-05T06:43:41.663Z"
   },
   {
    "duration": 11,
    "start_time": "2024-12-05T06:43:42.142Z"
   },
   {
    "duration": 4,
    "start_time": "2024-12-05T06:43:42.154Z"
   },
   {
    "duration": 11,
    "start_time": "2024-12-05T06:43:42.160Z"
   },
   {
    "duration": 9,
    "start_time": "2024-12-05T06:43:42.172Z"
   },
   {
    "duration": 32,
    "start_time": "2024-12-05T06:43:42.183Z"
   },
   {
    "duration": 10,
    "start_time": "2024-12-05T06:43:42.216Z"
   },
   {
    "duration": 9,
    "start_time": "2024-12-05T06:43:42.228Z"
   },
   {
    "duration": 9,
    "start_time": "2024-12-05T06:43:42.238Z"
   },
   {
    "duration": 15,
    "start_time": "2024-12-05T06:43:42.250Z"
   },
   {
    "duration": 208,
    "start_time": "2024-12-05T06:43:42.266Z"
   },
   {
    "duration": 216,
    "start_time": "2024-12-05T06:43:42.476Z"
   },
   {
    "duration": 176,
    "start_time": "2024-12-05T06:43:42.694Z"
   },
   {
    "duration": 191,
    "start_time": "2024-12-05T06:43:42.872Z"
   },
   {
    "duration": 198,
    "start_time": "2024-12-05T06:43:43.064Z"
   },
   {
    "duration": 0,
    "start_time": "2024-12-05T06:43:43.264Z"
   },
   {
    "duration": 0,
    "start_time": "2024-12-05T06:43:43.265Z"
   },
   {
    "duration": 15,
    "start_time": "2024-12-05T06:44:09.081Z"
   },
   {
    "duration": 463,
    "start_time": "2024-12-05T06:45:07.870Z"
   },
   {
    "duration": 11,
    "start_time": "2024-12-05T06:45:08.336Z"
   },
   {
    "duration": 3,
    "start_time": "2024-12-05T06:45:08.349Z"
   },
   {
    "duration": 11,
    "start_time": "2024-12-05T06:45:08.354Z"
   },
   {
    "duration": 10,
    "start_time": "2024-12-05T06:45:08.368Z"
   },
   {
    "duration": 35,
    "start_time": "2024-12-05T06:45:08.381Z"
   },
   {
    "duration": 12,
    "start_time": "2024-12-05T06:45:08.418Z"
   },
   {
    "duration": 9,
    "start_time": "2024-12-05T06:45:08.432Z"
   },
   {
    "duration": 6,
    "start_time": "2024-12-05T06:45:08.443Z"
   },
   {
    "duration": 14,
    "start_time": "2024-12-05T06:45:08.451Z"
   },
   {
    "duration": 208,
    "start_time": "2024-12-05T06:45:08.466Z"
   },
   {
    "duration": 224,
    "start_time": "2024-12-05T06:45:08.676Z"
   },
   {
    "duration": 183,
    "start_time": "2024-12-05T06:45:08.902Z"
   },
   {
    "duration": 196,
    "start_time": "2024-12-05T06:45:09.088Z"
   },
   {
    "duration": 196,
    "start_time": "2024-12-05T06:45:09.286Z"
   },
   {
    "duration": 0,
    "start_time": "2024-12-05T06:45:09.484Z"
   },
   {
    "duration": 0,
    "start_time": "2024-12-05T06:45:09.484Z"
   },
   {
    "duration": 20,
    "start_time": "2024-12-05T06:46:38.022Z"
   },
   {
    "duration": 15,
    "start_time": "2024-12-05T06:48:32.730Z"
   },
   {
    "duration": 15,
    "start_time": "2024-12-05T06:49:21.588Z"
   },
   {
    "duration": 6,
    "start_time": "2024-12-05T06:49:38.338Z"
   },
   {
    "duration": 16,
    "start_time": "2024-12-05T06:50:23.625Z"
   },
   {
    "duration": 361,
    "start_time": "2024-12-05T06:51:55.952Z"
   },
   {
    "duration": 131,
    "start_time": "2024-12-05T06:52:35.491Z"
   },
   {
    "duration": 43,
    "start_time": "2024-12-05T06:53:15.923Z"
   },
   {
    "duration": 279,
    "start_time": "2024-12-05T06:54:33.468Z"
   },
   {
    "duration": 464,
    "start_time": "2024-12-05T06:55:54.656Z"
   },
   {
    "duration": 12,
    "start_time": "2024-12-05T06:55:55.122Z"
   },
   {
    "duration": 4,
    "start_time": "2024-12-05T06:55:55.135Z"
   },
   {
    "duration": 10,
    "start_time": "2024-12-05T06:55:55.141Z"
   },
   {
    "duration": 9,
    "start_time": "2024-12-05T06:55:55.154Z"
   },
   {
    "duration": 9,
    "start_time": "2024-12-05T06:55:55.165Z"
   },
   {
    "duration": 42,
    "start_time": "2024-12-05T06:55:55.176Z"
   },
   {
    "duration": 10,
    "start_time": "2024-12-05T06:55:55.221Z"
   },
   {
    "duration": 7,
    "start_time": "2024-12-05T06:55:55.232Z"
   },
   {
    "duration": 13,
    "start_time": "2024-12-05T06:55:55.241Z"
   },
   {
    "duration": 204,
    "start_time": "2024-12-05T06:55:55.256Z"
   },
   {
    "duration": 209,
    "start_time": "2024-12-05T06:55:55.463Z"
   },
   {
    "duration": 178,
    "start_time": "2024-12-05T06:55:55.674Z"
   },
   {
    "duration": 193,
    "start_time": "2024-12-05T06:55:55.856Z"
   },
   {
    "duration": 366,
    "start_time": "2024-12-05T06:55:56.051Z"
   },
   {
    "duration": 0,
    "start_time": "2024-12-05T06:55:56.419Z"
   },
   {
    "duration": 0,
    "start_time": "2024-12-05T06:55:56.422Z"
   },
   {
    "duration": 157,
    "start_time": "2024-12-05T06:57:25.510Z"
   },
   {
    "duration": 156,
    "start_time": "2024-12-05T06:58:01.613Z"
   },
   {
    "duration": 151,
    "start_time": "2024-12-05T06:58:54.043Z"
   },
   {
    "duration": 158,
    "start_time": "2024-12-05T06:59:35.250Z"
   },
   {
    "duration": 10,
    "start_time": "2024-12-05T07:05:13.934Z"
   },
   {
    "duration": 6,
    "start_time": "2024-12-05T07:05:20.515Z"
   },
   {
    "duration": 9,
    "start_time": "2024-12-05T07:05:59.114Z"
   },
   {
    "duration": 6,
    "start_time": "2024-12-05T07:06:30.484Z"
   },
   {
    "duration": 9,
    "start_time": "2024-12-05T07:06:47.762Z"
   },
   {
    "duration": 7,
    "start_time": "2024-12-05T07:07:12.096Z"
   },
   {
    "duration": 5,
    "start_time": "2024-12-05T07:07:34.929Z"
   },
   {
    "duration": 6,
    "start_time": "2024-12-05T07:07:58.271Z"
   },
   {
    "duration": 10,
    "start_time": "2024-12-05T07:08:05.074Z"
   },
   {
    "duration": 5,
    "start_time": "2024-12-05T07:08:54.408Z"
   },
   {
    "duration": 351,
    "start_time": "2024-12-05T07:11:26.231Z"
   },
   {
    "duration": 40,
    "start_time": "2024-12-05T07:11:58.099Z"
   },
   {
    "duration": 15,
    "start_time": "2024-12-05T07:12:10.746Z"
   },
   {
    "duration": 806,
    "start_time": "2024-12-05T07:12:28.451Z"
   },
   {
    "duration": 11,
    "start_time": "2024-12-05T07:12:29.259Z"
   },
   {
    "duration": 4,
    "start_time": "2024-12-05T07:12:29.273Z"
   },
   {
    "duration": 11,
    "start_time": "2024-12-05T07:12:29.278Z"
   },
   {
    "duration": 11,
    "start_time": "2024-12-05T07:12:29.316Z"
   },
   {
    "duration": 10,
    "start_time": "2024-12-05T07:12:29.328Z"
   },
   {
    "duration": 10,
    "start_time": "2024-12-05T07:12:29.340Z"
   },
   {
    "duration": 9,
    "start_time": "2024-12-05T07:12:29.352Z"
   },
   {
    "duration": 6,
    "start_time": "2024-12-05T07:12:29.362Z"
   },
   {
    "duration": 42,
    "start_time": "2024-12-05T07:12:29.370Z"
   },
   {
    "duration": 186,
    "start_time": "2024-12-05T07:12:29.414Z"
   },
   {
    "duration": 218,
    "start_time": "2024-12-05T07:12:29.602Z"
   },
   {
    "duration": 182,
    "start_time": "2024-12-05T07:12:29.822Z"
   },
   {
    "duration": 191,
    "start_time": "2024-12-05T07:12:30.007Z"
   },
   {
    "duration": 391,
    "start_time": "2024-12-05T07:12:30.201Z"
   },
   {
    "duration": 0,
    "start_time": "2024-12-05T07:12:30.594Z"
   },
   {
    "duration": 0,
    "start_time": "2024-12-05T07:12:30.595Z"
   },
   {
    "duration": 0,
    "start_time": "2024-12-05T07:12:30.596Z"
   },
   {
    "duration": 0,
    "start_time": "2024-12-05T07:12:30.597Z"
   },
   {
    "duration": 6,
    "start_time": "2024-12-05T07:12:40.017Z"
   },
   {
    "duration": 150,
    "start_time": "2024-12-05T07:12:49.289Z"
   },
   {
    "duration": 6,
    "start_time": "2024-12-05T07:12:53.668Z"
   },
   {
    "duration": 16,
    "start_time": "2024-12-05T07:24:19.803Z"
   },
   {
    "duration": 172,
    "start_time": "2024-12-05T08:10:11.287Z"
   },
   {
    "duration": 17,
    "start_time": "2024-12-05T08:10:15.527Z"
   },
   {
    "duration": 2643,
    "start_time": "2024-12-05T08:10:22.812Z"
   },
   {
    "duration": 12,
    "start_time": "2024-12-05T08:10:25.457Z"
   },
   {
    "duration": 4,
    "start_time": "2024-12-05T08:10:25.471Z"
   },
   {
    "duration": 12,
    "start_time": "2024-12-05T08:10:25.477Z"
   },
   {
    "duration": 18,
    "start_time": "2024-12-05T08:10:25.491Z"
   },
   {
    "duration": 11,
    "start_time": "2024-12-05T08:10:25.511Z"
   },
   {
    "duration": 11,
    "start_time": "2024-12-05T08:10:25.524Z"
   },
   {
    "duration": 9,
    "start_time": "2024-12-05T08:10:25.537Z"
   },
   {
    "duration": 7,
    "start_time": "2024-12-05T08:10:25.548Z"
   },
   {
    "duration": 51,
    "start_time": "2024-12-05T08:10:25.558Z"
   },
   {
    "duration": 199,
    "start_time": "2024-12-05T08:10:25.611Z"
   },
   {
    "duration": 229,
    "start_time": "2024-12-05T08:10:25.812Z"
   },
   {
    "duration": 194,
    "start_time": "2024-12-05T08:10:26.043Z"
   },
   {
    "duration": 218,
    "start_time": "2024-12-05T08:10:26.239Z"
   },
   {
    "duration": 7,
    "start_time": "2024-12-05T08:10:26.459Z"
   },
   {
    "duration": 161,
    "start_time": "2024-12-05T08:10:26.467Z"
   },
   {
    "duration": 5,
    "start_time": "2024-12-05T08:10:26.630Z"
   },
   {
    "duration": 188,
    "start_time": "2024-12-05T08:11:20.226Z"
   },
   {
    "duration": 170,
    "start_time": "2024-12-05T08:12:20.009Z"
   },
   {
    "duration": 225,
    "start_time": "2024-12-05T08:12:25.095Z"
   },
   {
    "duration": 187,
    "start_time": "2024-12-05T08:13:29.762Z"
   },
   {
    "duration": 188,
    "start_time": "2024-12-05T08:15:05.623Z"
   },
   {
    "duration": 174,
    "start_time": "2024-12-05T08:16:40.293Z"
   },
   {
    "duration": 172,
    "start_time": "2024-12-05T08:17:18.607Z"
   },
   {
    "duration": 46,
    "start_time": "2024-12-06T10:23:54.302Z"
   },
   {
    "duration": 5,
    "start_time": "2024-12-06T10:24:15.136Z"
   },
   {
    "duration": 7,
    "start_time": "2024-12-06T10:26:00.896Z"
   },
   {
    "duration": 6,
    "start_time": "2024-12-06T10:26:09.377Z"
   },
   {
    "duration": 42,
    "start_time": "2024-12-06T10:26:31.536Z"
   },
   {
    "duration": 45,
    "start_time": "2024-12-06T10:29:43.806Z"
   },
   {
    "duration": 7,
    "start_time": "2024-12-06T10:30:25.677Z"
   },
   {
    "duration": 162,
    "start_time": "2024-12-06T10:38:24.438Z"
   },
   {
    "duration": 14,
    "start_time": "2024-12-06T10:39:10.571Z"
   },
   {
    "duration": 7,
    "start_time": "2024-12-06T10:39:22.147Z"
   },
   {
    "duration": 137,
    "start_time": "2024-12-06T10:40:35.497Z"
   },
   {
    "duration": 47,
    "start_time": "2024-12-06T10:42:36.658Z"
   },
   {
    "duration": 8,
    "start_time": "2024-12-06T10:42:56.192Z"
   },
   {
    "duration": 43,
    "start_time": "2024-12-06T10:43:50.863Z"
   },
   {
    "duration": 149,
    "start_time": "2024-12-06T10:44:44.912Z"
   },
   {
    "duration": 15,
    "start_time": "2024-12-06T10:58:04.491Z"
   },
   {
    "duration": 159,
    "start_time": "2024-12-06T10:58:15.565Z"
   },
   {
    "duration": 8,
    "start_time": "2024-12-06T11:00:00.996Z"
   },
   {
    "duration": 17,
    "start_time": "2024-12-06T11:07:31.272Z"
   },
   {
    "duration": 24,
    "start_time": "2024-12-06T11:08:36.931Z"
   },
   {
    "duration": 24,
    "start_time": "2024-12-06T11:09:37.736Z"
   },
   {
    "duration": 23,
    "start_time": "2024-12-06T11:10:36.572Z"
   },
   {
    "duration": 23,
    "start_time": "2024-12-06T11:10:46.068Z"
   },
   {
    "duration": 9,
    "start_time": "2024-12-06T11:11:15.187Z"
   },
   {
    "duration": 23,
    "start_time": "2024-12-06T11:11:17.901Z"
   },
   {
    "duration": 12,
    "start_time": "2024-12-06T11:13:29.347Z"
   },
   {
    "duration": 10,
    "start_time": "2024-12-06T11:15:09.083Z"
   }
  ],
  "kernelspec": {
   "display_name": "Python 3 (ipykernel)",
   "language": "python",
   "name": "python3"
  },
  "language_info": {
   "codemirror_mode": {
    "name": "ipython",
    "version": 3
   },
   "file_extension": ".py",
   "mimetype": "text/x-python",
   "name": "python",
   "nbconvert_exporter": "python",
   "pygments_lexer": "ipython3",
   "version": "3.9.19"
  },
  "toc": {
   "base_numbering": 1,
   "nav_menu": {},
   "number_sections": true,
   "sideBar": true,
   "skip_h1_title": true,
   "title_cell": "Table of Contents",
   "title_sidebar": "Contents",
   "toc_cell": false,
   "toc_position": {},
   "toc_section_display": true,
   "toc_window_display": false
  }
 },
 "nbformat": 4,
 "nbformat_minor": 2
}
